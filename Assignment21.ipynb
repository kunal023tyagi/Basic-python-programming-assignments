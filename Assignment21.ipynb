{
  "metadata": {
    "kernelspec": {
      "display_name": "Pyolite",
      "language": "python",
      "name": "python"
    },
    "language_info": {
      "codemirror_mode": {
        "name": "python",
        "version": 3
      },
      "file_extension": ".py",
      "mimetype": "text/x-python",
      "name": "python",
      "nbconvert_exporter": "python",
      "pygments_lexer": "ipython3",
      "version": "3.8"
    }
  },
  "nbformat_minor": 5,
  "nbformat": 4,
  "cells": [
    {
      "cell_type": "code",
      "source": "import datetime\n# Code to Add current date to the today.txt file\nfile = open('today.txt','w')\nfile.write(datetime.datetime.now().strftime(\"%d-%m-%Y\"))\nfile.close()\n# Code to Read current date from today.txt file\nfile = open('today.txt','r')\nprint(file.read())\nfile.close()",
      "metadata": {
        "trusted": true
      },
      "execution_count": 35,
      "outputs": [
        {
          "name": "stdout",
          "text": "16-04-2022\n",
          "output_type": "stream"
        }
      ],
      "id": "bef3c448-d9e6-4e2d-a850-fbfa02b5de3d"
    },
    {
      "cell_type": "code",
      "source": "file = open('today.txt','r')\ntoday_string = file.read()\nprint(today_string)",
      "metadata": {
        "trusted": true
      },
      "execution_count": 36,
      "outputs": [
        {
          "name": "stdout",
          "text": "16-04-2022\n",
          "output_type": "stream"
        }
      ],
      "id": "80e47e1c-86e2-43a3-981a-ada3a4e06404"
    },
    {
      "cell_type": "code",
      "source": "from datetime import datetime\nparsed_data = datetime.strptime(today_string, '%d-%m-%Y')\nprint(parsed_data)",
      "metadata": {
        "trusted": true
      },
      "execution_count": 37,
      "outputs": [
        {
          "name": "stdout",
          "text": "2022-04-16 00:00:00\n",
          "output_type": "stream"
        }
      ],
      "id": "ce1ec3c8-bf0d-4eda-b548-f31d43bfb796"
    },
    {
      "cell_type": "code",
      "source": "import os\nfor folders, subfolders, files in os.walk(os.getcwd()):\n    for file in files:\n        print(file)",
      "metadata": {
        "trusted": true
      },
      "execution_count": 38,
      "outputs": [
        {
          "name": "stdout",
          "text": "test.txt\nbooks.csv\nbooks.db\ntoday.txt\nREADME\n",
          "output_type": "stream"
        }
      ],
      "id": "4bf0674f-f3e9-4239-b0b2-846c6ff48d7e"
    },
    {
      "cell_type": "code",
      "source": "import os \nos.listdir()",
      "metadata": {
        "trusted": true
      },
      "execution_count": 39,
      "outputs": [
        {
          "execution_count": 39,
          "output_type": "execute_result",
          "data": {
            "text/plain": "['.matplotlib', '.ipython', 'test.txt', 'books.csv', 'books.db', 'today.txt']"
          },
          "metadata": {}
        }
      ],
      "id": "2fc80d25-4dec-4c7f-8915-56c974e308f1"
    },
    {
      "cell_type": "code",
      "source": "from datetime import datetime\nmy_dob = datetime.strptime('22/04/1997','%d/%m/%Y')\nprint(my_dob, type(my_dob))",
      "metadata": {
        "trusted": true
      },
      "execution_count": 41,
      "outputs": [
        {
          "name": "stdout",
          "text": "1997-04-22 00:00:00 <class 'datetime.datetime'>\n",
          "output_type": "stream"
        }
      ],
      "id": "d9f4dee0-6206-4b46-aae0-598351e0489a"
    },
    {
      "cell_type": "code",
      "source": "from datetime import datetime\nmy_dob = datetime(1997,4,22)\nmy_dob.strftime(\"%A\")",
      "metadata": {
        "trusted": true
      },
      "execution_count": 42,
      "outputs": [
        {
          "execution_count": 42,
          "output_type": "execute_result",
          "data": {
            "text/plain": "'Tuesday'"
          },
          "metadata": {}
        }
      ],
      "id": "4ece5341-e59d-4e55-8891-a69b741e1879"
    },
    {
      "cell_type": "code",
      "source": "from datetime import datetime, timedelta\nmy_dob = datetime.strptime(\"22/04/1997\",'%d/%m/%Y')\nfuture_date = my_dob-timedelta(10000)\nfuture_date",
      "metadata": {
        "trusted": true
      },
      "execution_count": 43,
      "outputs": [
        {
          "execution_count": 43,
          "output_type": "execute_result",
          "data": {
            "text/plain": "datetime.datetime(1969, 12, 5, 0, 0)"
          },
          "metadata": {}
        }
      ],
      "id": "53da3d49-d827-4876-bada-7921b8db110f"
    }
  ]
}
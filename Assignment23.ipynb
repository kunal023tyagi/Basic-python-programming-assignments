{
  "metadata": {
    "kernelspec": {
      "display_name": "Pyolite",
      "language": "python",
      "name": "python"
    },
    "language_info": {
      "codemirror_mode": {
        "name": "python",
        "version": 3
      },
      "file_extension": ".py",
      "mimetype": "text/x-python",
      "name": "python",
      "nbconvert_exporter": "python",
      "pygments_lexer": "ipython3",
      "version": "3.8"
    }
  },
  "nbformat_minor": 5,
  "nbformat": 4,
  "cells": [
    {
      "cell_type": "code",
      "source": "def func(a,b=6,c=8):\n    print(a,b,c)\nfunc(1,2)",
      "metadata": {
        "trusted": true
      },
      "execution_count": 7,
      "outputs": [
        {
          "name": "stdout",
          "text": "1 2 8\n",
          "output_type": "stream"
        }
      ],
      "id": "7d0235de-769d-4598-91e4-7d80ecb000d7"
    },
    {
      "cell_type": "code",
      "source": "def func(a,b,c=5):\n    print(a,b,c)\nfunc(1,c=3,b=2)",
      "metadata": {
        "trusted": true
      },
      "execution_count": 8,
      "outputs": [
        {
          "name": "stdout",
          "text": "1 2 3\n",
          "output_type": "stream"
        }
      ],
      "id": "c6a838d6-760c-477b-8b17-272211b6f7df"
    },
    {
      "cell_type": "code",
      "source": "def func(a, *pargs):\n    print(a,pargs)\nfunc(1,2,3)",
      "metadata": {
        "trusted": true
      },
      "execution_count": 9,
      "outputs": [
        {
          "name": "stdout",
          "text": "1 (2, 3)\n",
          "output_type": "stream"
        }
      ],
      "id": "9f49f856-83df-4bba-9d18-c4843a3c7568"
    },
    {
      "cell_type": "code",
      "source": "def func(a,**kargs):\n    print(a,kargs)\nfunc(a=1,c=3,b=2)",
      "metadata": {
        "trusted": true
      },
      "execution_count": 10,
      "outputs": [
        {
          "name": "stdout",
          "text": "1 {'c': 3, 'b': 2}\n",
          "output_type": "stream"
        }
      ],
      "id": "96a9f7e4-0843-40bf-9032-7603b178db46"
    },
    {
      "cell_type": "code",
      "source": "def func(a,b,c=8,d=5):\n    print(a,b,c,d)\nfunc(1,*(5,6))",
      "metadata": {
        "trusted": true
      },
      "execution_count": 11,
      "outputs": [
        {
          "name": "stdout",
          "text": "1 5 6 5\n",
          "output_type": "stream"
        }
      ],
      "id": "90263a1f-9c29-47d7-9e74-dafcd19cfba5"
    },
    {
      "cell_type": "code",
      "source": "def func(a, b, c): a = 2; b[0] = 'x'; c['a'] = 'y'\nl=1; m=[1]; n={'a':0}\nfunc(l, m, n)\nl,m,n",
      "metadata": {
        "trusted": true
      },
      "execution_count": 12,
      "outputs": [
        {
          "execution_count": 12,
          "output_type": "execute_result",
          "data": {
            "text/plain": "(1, ['x'], {'a': 'y'})"
          },
          "metadata": {}
        }
      ],
      "id": "6fabf15f-17a7-47a8-ae2c-2c5513c591c7"
    }
  ]
}
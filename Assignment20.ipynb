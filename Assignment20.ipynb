{
  "metadata": {
    "kernelspec": {
      "display_name": "Pyolite",
      "language": "python",
      "name": "python"
    },
    "language_info": {
      "codemirror_mode": {
        "name": "python",
        "version": 3
      },
      "file_extension": ".py",
      "mimetype": "text/x-python",
      "name": "python",
      "nbconvert_exporter": "python",
      "pygments_lexer": "ipython3",
      "version": "3.8"
    }
  },
  "nbformat_minor": 5,
  "nbformat": 4,
  "cells": [
    {
      "cell_type": "code",
      "source": "test1 = 'This is a test of the emergency text system,'\nprint(test1)\nwith open('test.txt','w') as file:\n    file.write(test1)\n    file.close()",
      "metadata": {
        "trusted": true
      },
      "execution_count": 23,
      "outputs": [
        {
          "name": "stdout",
          "text": "This is a test of the emergency text system,\n",
          "output_type": "stream"
        }
      ],
      "id": "e9962372-b1c1-4c77-a8d5-c317441db83c"
    },
    {
      "cell_type": "code",
      "source": "with open('test.txt','r') as file:\n    test2 = file.read()\n    \nprint(test2)   \nprint(test1 == test2)",
      "metadata": {
        "trusted": true
      },
      "execution_count": 25,
      "outputs": [
        {
          "name": "stdout",
          "text": "This is a test of the emergency text system,\nTrue\n",
          "output_type": "stream"
        }
      ],
      "id": "4c68ee3f-8392-4a7b-ba50-4c670ec2fe47"
    },
    {
      "cell_type": "code",
      "source": "data = '''title,author,year\nThe Weirdstone of Brisingamen,Alan Garner,1960\nPerdido Street Station,China Miéville,2000\nThud!,Terry Pratchett,2005\nThe Spellman Files,Lisa Lutz,2007\nSmall Gods,Terry Pratchett,1992'''\n\nwith open('books.csv','w') as file:\n    file.write(data)",
      "metadata": {
        "trusted": true
      },
      "execution_count": 26,
      "outputs": [],
      "id": "478f8a59-84f9-4669-827b-e529844e82b1"
    },
    {
      "cell_type": "code",
      "source": "import sqlite3\ndb = sqlite3.connect('books.db')\ncursor = db.cursor()\ncursor.execute(\"CREATE TABLE books (title text, author text, year int)\")\ndb.commit()\ndb.close()",
      "metadata": {
        "trusted": true
      },
      "execution_count": 27,
      "outputs": [],
      "id": "63ef871c-b38f-4a3e-b73d-4572aa0c648d"
    },
    {
      "cell_type": "code",
      "source": "import sqlite3\nimport csv\nconn = sqlite3.connect(\"books.db\")\ncursor = conn.cursor()\nwith open(\"books.csv\",\"r\") as file:\n    books = csv.DictReader(file)\n    for book in books:\n        cursor.execute(\"INSERT INTO books VALUES (?,?,?)\",(book['title'],book['author'],book['year']))\nconn.commit()\nconn.close()",
      "metadata": {
        "trusted": true
      },
      "execution_count": 28,
      "outputs": [],
      "id": "f5f0e610-4291-4c1a-90dc-83af668e82db"
    },
    {
      "cell_type": "code",
      "source": "import sqlite3\nconn = sqlite3.connect('books.db')\ncursor = conn.cursor()\noutput = cursor.execute(\"SELECT title FROM books ORDER BY title ASC\")\nfor ele in output:\n    print(ele[0])\nconn.commit()\nconn.close()",
      "metadata": {
        "trusted": true
      },
      "execution_count": 29,
      "outputs": [
        {
          "name": "stdout",
          "text": "Perdido Street Station\nSmall Gods\nThe Spellman Files\nThe Weirdstone of Brisingamen\nThud!\n",
          "output_type": "stream"
        }
      ],
      "id": "3c61a73b-c933-483d-8e14-f1cf0a776560"
    },
    {
      "cell_type": "code",
      "source": "import sqlite3\nconn = sqlite3.connect('books.db')\ncursor = conn.cursor()\nouput = cursor.execute(\"SELECT * FROM books ORDER BY year\")\nfor record in ouput:\n    print(record)",
      "metadata": {
        "trusted": true
      },
      "execution_count": 30,
      "outputs": [
        {
          "name": "stdout",
          "text": "('The Weirdstone of Brisingamen', 'Alan Garner', 1960)\n('Small Gods', 'Terry Pratchett', 1992)\n('Perdido Street Station', 'China Miéville', 2000)\n('Thud!', 'Terry Pratchett', 2005)\n('The Spellman Files', 'Lisa Lutz', 2007)\n",
          "output_type": "stream"
        }
      ],
      "id": "979386b4-0ecd-4d2e-b94c-8171db3c7053"
    },
    {
      "cell_type": "code",
      "source": "import sqlalchemy\nconn = sqlalchemy.create_engine('sqlite:///books.db')\nconn",
      "metadata": {
        "trusted": true
      },
      "execution_count": 31,
      "outputs": [
        {
          "execution_count": 31,
          "output_type": "execute_result",
          "data": {
            "text/plain": "Engine(sqlite:///books.db)"
          },
          "metadata": {}
        }
      ],
      "id": "5bdda051-99de-434a-8f01-0a86e8c5cffd"
    },
    {
      "cell_type": "code",
      "source": "",
      "metadata": {},
      "execution_count": null,
      "outputs": [],
      "id": "bef3c448-d9e6-4e2d-a850-fbfa02b5de3d"
    }
  ]
}
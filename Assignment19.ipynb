{
  "metadata": {
    "kernelspec": {
      "display_name": "Pyolite",
      "language": "python",
      "name": "python"
    },
    "language_info": {
      "codemirror_mode": {
        "name": "python",
        "version": 3
      },
      "file_extension": ".py",
      "mimetype": "text/x-python",
      "name": "python",
      "nbconvert_exporter": "python",
      "pygments_lexer": "ipython3",
      "version": "3.8"
    }
  },
  "nbformat_minor": 5,
  "nbformat": 4,
  "cells": [
    {
      "cell_type": "code",
      "source": "class Thing:\n    pass\n\nprint(Thing)\n\nexample = Thing()\nprint(example)",
      "metadata": {
        "trusted": true
      },
      "execution_count": 13,
      "outputs": [
        {
          "name": "stdout",
          "text": "<class '__main__.Thing'>\n<__main__.Thing object at 0x3821498>\n",
          "output_type": "stream"
        }
      ],
      "id": "118c5627-ae49-4a80-9390-e16757ac81d7"
    },
    {
      "cell_type": "code",
      "source": "class Thing2:\n    letters = 'abc'\n    \nprint(Thing2.letters)",
      "metadata": {
        "trusted": true
      },
      "execution_count": 14,
      "outputs": [
        {
          "name": "stdout",
          "text": "abc\n",
          "output_type": "stream"
        }
      ],
      "id": "76fcc229-5091-4342-bb39-53b690c7e87b"
    },
    {
      "cell_type": "code",
      "source": "class Thing3:    \n    def __init__(self):\n        self.letters = 'xyz'\n        \ntry:        \n    print(Thing3.letters) # Will raise a syntax Error\nexcept:\n    my_thing = Thing3()\n    print(my_thing.letters)",
      "metadata": {
        "trusted": true
      },
      "execution_count": 15,
      "outputs": [
        {
          "name": "stdout",
          "text": "xyz\n",
          "output_type": "stream"
        }
      ],
      "id": "851f315a-77f0-4bda-af91-058669d789c1"
    },
    {
      "cell_type": "code",
      "source": "class Element:   \n    def __init__(self, name, symbol, number):\n        self.name = name\n        self.symbol = symbol\n        self.number = number\n\nmy_elements = Element('Hydrogen','H',1)",
      "metadata": {
        "trusted": true
      },
      "execution_count": 16,
      "outputs": [],
      "id": "f09f8a46-2610-4faf-be77-5658dd9aade2"
    },
    {
      "cell_type": "code",
      "source": "custom_dict = {'name':'Hydrogen','symbol':'H','number':1}\nprint(custom_dict)\n\n# Method 1\nhydrogen = Element(*custom_dict.values())\nprint('Using Method #1 ->',hydrogen.name,hydrogen.symbol,hydrogen.number, sep='\\t')\n\n# Method 2\nhydrogen = Element(**custom_dict)\nprint('Using Method #2 ->',hydrogen.name,hydrogen.symbol,hydrogen.number, sep='\\t')",
      "metadata": {
        "trusted": true
      },
      "execution_count": 17,
      "outputs": [
        {
          "name": "stdout",
          "text": "{'name': 'Hydrogen', 'symbol': 'H', 'number': 1}\nUsing Method #1 ->\tHydrogen\tH\t1\nUsing Method #2 ->\tHydrogen\tH\t1\n",
          "output_type": "stream"
        }
      ],
      "id": "71882c58-d02c-404a-9e44-3d3db56af039"
    },
    {
      "cell_type": "code",
      "source": "class Element:\n    def __init__(self, name, symbol, number):\n        self.name = name\n        self.symbol = symbol\n        self.number = number      \n    def dump(self):\n        print(self.name, self.symbol, self.number)\n        \nhydrogen = Element('Hydrogen','H',1)\nhydrogen.dump()",
      "metadata": {
        "trusted": true
      },
      "execution_count": 18,
      "outputs": [
        {
          "name": "stdout",
          "text": "Hydrogen H 1\n",
          "output_type": "stream"
        }
      ],
      "id": "3bf13ecb-5893-4c1a-be98-c7d3668d7b91"
    },
    {
      "cell_type": "code",
      "source": "print(hydrogen)\n\nclass Element:\n    def __init__(self, name, symbol, number):\n        self.name = name\n        self.symbol = symbol\n        self.number = number      \n    def __str__(self):\n        return f'{self.name} {self.symbol} {self.number}'\n        \nHydrogen = Element('Hydrogen','H',1)\nprint(Hydrogen)",
      "metadata": {
        "trusted": true
      },
      "execution_count": 19,
      "outputs": [
        {
          "name": "stdout",
          "text": "<__main__.Element object at 0x37cdfc8>\nHydrogen H 1\n",
          "output_type": "stream"
        }
      ],
      "id": "c3488b46-aaa6-4833-86b8-32a6683f49d5"
    },
    {
      "cell_type": "code",
      "source": "class Element:\n    def __init__(self,name,symbol,number):\n        self.__name = name\n        self.__symbol = symbol\n        self.__number = number\n    \n    @property\n    def get_name(self):\n        return self.__name\n    \n    @property\n    def get_symbol(self):\n        return self.__symbol\n    \n    @property\n    def get_number(self):\n        return self.__number\n    \nhydrogen = Element('Hydrogen','H',1)\nprint(hydrogen.get_name)\nprint(hydrogen.get_symbol)\nprint(hydrogen.get_number)",
      "metadata": {
        "trusted": true
      },
      "execution_count": 20,
      "outputs": [
        {
          "name": "stdout",
          "text": "Hydrogen\nH\n1\n",
          "output_type": "stream"
        }
      ],
      "id": "aa634505-e85b-4884-8f36-37be69664ef8"
    },
    {
      "cell_type": "code",
      "source": "class Bear:\n    def eats(self):\n        print('berries')\nclass Rabbit:\n    def eats(self):\n        print('clover')\nclass Octothorpe:\n    def eats(self):\n        print('campers')\n        \nbear = Bear()\nrabbit = Rabbit()\noctothrope = Octothorpe()\n\nbear.eats()\nrabbit.eats()\noctothrope.eats()",
      "metadata": {
        "trusted": true
      },
      "execution_count": 21,
      "outputs": [
        {
          "name": "stdout",
          "text": "berries\nclover\ncampers\n",
          "output_type": "stream"
        }
      ],
      "id": "6642f7fc-e2c4-4902-9b53-7592b37b50ca"
    },
    {
      "cell_type": "code",
      "source": "class Laser:\n    def does(self):\n        return 'disintegrate'\nclass Claw:\n    def does(self):\n        return 'crush'\nclass Smartphone:\n    def does(self):\n        return 'ring'\nclass Robot:\n    def __init__(self):\n        self.laser = Laser()\n        self.claw = Claw()\n        self.smartphone = Smartphone()\n    def does(self):\n        print(self.laser.does(),self.claw.does(),self.smartphone.does())\n        \nr2d2 = Robot()\nr2d2.does()",
      "metadata": {
        "trusted": true
      },
      "execution_count": 22,
      "outputs": [
        {
          "name": "stdout",
          "text": "disintegrate crush ring\n",
          "output_type": "stream"
        }
      ],
      "id": "52669035-709e-4e82-949f-f76d880a251c"
    },
    {
      "cell_type": "code",
      "source": "",
      "metadata": {},
      "execution_count": null,
      "outputs": [],
      "id": "e2c4fedd-34e2-4e02-9ba3-5fc0e89656d2"
    }
  ]
}
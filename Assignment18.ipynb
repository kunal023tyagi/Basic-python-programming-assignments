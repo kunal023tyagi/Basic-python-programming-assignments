{
  "metadata": {
    "kernelspec": {
      "display_name": "Pyolite",
      "language": "python",
      "name": "python"
    },
    "language_info": {
      "codemirror_mode": {
        "name": "python",
        "version": 3
      },
      "file_extension": ".py",
      "mimetype": "text/x-python",
      "name": "python",
      "nbconvert_exporter": "python",
      "pygments_lexer": "ipython3",
      "version": "3.8"
    }
  },
  "nbformat_minor": 5,
  "nbformat": 4,
  "cells": [
    {
      "cell_type": "code",
      "source": "!type zoo.py",
      "metadata": {
        "trusted": true
      },
      "execution_count": null,
      "outputs": [],
      "id": "a13f0036-952e-4904-807c-1af429bf37a9"
    },
    {
      "cell_type": "code",
      "source": "import zoo\nzoo.hours()",
      "metadata": {
        "trusted": true
      },
      "execution_count": null,
      "outputs": [],
      "id": "351a895d-6271-4ee5-9755-74af2b9a91b3"
    },
    {
      "cell_type": "code",
      "source": "import zoo as menagerie\nmenagerie.hours()\n",
      "metadata": {
        "trusted": true
      },
      "execution_count": null,
      "outputs": [],
      "id": "8794f240-0b31-4099-b746-f3e5edc179c2"
    },
    {
      "cell_type": "code",
      "source": "from zoo import hours\nhours()",
      "metadata": {
        "trusted": true
      },
      "execution_count": null,
      "outputs": [],
      "id": "968ca381-6625-474b-ad33-251b02b42f09"
    },
    {
      "cell_type": "code",
      "source": "from zoo import hours as info\ninfo()",
      "metadata": {
        "trusted": true
      },
      "execution_count": null,
      "outputs": [],
      "id": "cfbec5c5-a648-4c8b-a683-d980624c3f76"
    },
    {
      "cell_type": "code",
      "source": "plain_dict = {'a':1,'b':2,'c':3}\nprint(plain_dict)",
      "metadata": {
        "trusted": true
      },
      "execution_count": 17,
      "outputs": [
        {
          "name": "stdout",
          "text": "{'a': 1, 'b': 2, 'c': 3}\n",
          "output_type": "stream"
        }
      ],
      "id": "02aba5ed-f1c3-43dd-bc15-3c59793f92dc"
    },
    {
      "cell_type": "code",
      "source": "from collections import OrderedDict\nfancy = OrderedDict(plain_dict)\nprint(f'plain_dict -> {plain_dict}')\nprint(f'fancy -> {fancy}')",
      "metadata": {
        "trusted": true
      },
      "execution_count": 18,
      "outputs": [
        {
          "name": "stdout",
          "text": "plain_dict -> {'a': 1, 'b': 2, 'c': 3}\nfancy -> OrderedDict([('a', 1), ('b', 2), ('c', 3)])\n",
          "output_type": "stream"
        }
      ],
      "id": "e01b20cc-6368-4f82-9c35-a4d811db105c"
    },
    {
      "cell_type": "code",
      "source": "from collections import defaultdict\ndict_of_lists = defaultdict(list)\ndict_of_lists['a'].append('something for a')\nprint(dict_of_lists['a'])",
      "metadata": {
        "trusted": true
      },
      "execution_count": 19,
      "outputs": [
        {
          "name": "stdout",
          "text": "['something for a']\n",
          "output_type": "stream"
        }
      ],
      "id": "a0616aea-f920-45c7-8dc0-9ce300fd8b7b"
    },
    {
      "cell_type": "code",
      "source": "",
      "metadata": {},
      "execution_count": null,
      "outputs": [],
      "id": "636e561c-e5cd-4d43-995a-d950b993004c"
    }
  ]
}